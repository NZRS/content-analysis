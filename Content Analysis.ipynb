{
 "cells": [
  {
   "cell_type": "markdown",
   "metadata": {},
   "source": [
    "# NetFlix New Zealand vs NetFlix USA Library Comparisons #\n",
    "\n",
    "During June 2015 NZRS logged into Netflix from within New Zealand and the USA and observed the content that was avaiable.  From each page the titles offered by the service geographically were extracted and stored.\n",
    "\n",
    "Each title was compared against the OMDd API (http://www.omdbapi.com/) an alternative interace to the Internet Movide Database (IMDd) data.  This allowed each title to be compared against data held within IMDb and the title data to be augmented.\n",
    "\n",
    "This included the following:\n",
    "\n",
    "* Plot\n",
    "* Poster\n",
    "* Rated\n",
    "* Language\n",
    "* Title\n",
    "* Country\n",
    "* Writer\n",
    "* Metascore\n",
    "* imdbRating\n",
    "* Director\n",
    "* Released\n",
    "* Actors\n",
    "* Year\n",
    "* Genre\n",
    "* Awards\n",
    "* Runtime\n",
    "* Type\n",
    "* Response\n",
    "* imdbVotes\n",
    "* imdbID\n",
    "\n",
    "The data was compiled and the serialised outputs saved for further analysis.  The data can be found here.[[[link to pickles]]]]  This was done using the Python pickle module.\n",
    "\n",
    "A Python module was created to help with analysis and is available on Github (https://github.com/NZRS/content-analysis/blob/master/content_stats.py).\n",
    "\n",
    "The analysis focussed on titles, so does not at present identify if the title is a movies or a series.  This may be able to be ascertianed from the OMDB 'Type', though this still does not give number of episodes, nor how many episodes  are on Netflix.  Qualitively Netflix NZ is missing the lasest series of Doctor Who as well as series from the 'classic Who'.\n"
   ]
  },
  {
   "cell_type": "code",
   "execution_count": 11,
   "metadata": {
    "collapsed": true
   },
   "outputs": [],
   "source": [
    "%matplotlib inline\n",
    "import pickle\n",
    "import plotly.plotly as py\n",
    "from plotly.graph_objs import *\n",
    "# module from NZRS\n",
    "import content_stats\n",
    "from IPython.core.display import Image\n",
    "from urllib2 import quote\n",
    "from IPython.display import display\n",
    "import plotly.tools as tls"
   ]
  },
  {
   "cell_type": "code",
   "execution_count": 12,
   "metadata": {
    "collapsed": true
   },
   "outputs": [],
   "source": [
    "# load previously pickled dictionaries\n",
    "\n",
    "nz_data = pickle.load(open('nz/all_movies_dict.p', 'rb'))\n",
    "us_data = pickle.load(open('us/all_movies_dict.p', 'rb'))\n",
    "\n"
   ]
  },
  {
   "cell_type": "markdown",
   "metadata": {},
   "source": [
    "For all charts we present; the data we use is available for exploration and reuse.  There is a 'Play with this data' link at the bottom right hand side of each chart.\n",
    "\n",
    "If you are running these iPython notebooks yourself please note we are embedding the graphs rather than creating them.  You can uncomment the creation code and comment out the embed code if you are using the notebooks interactively.\n",
    "\n",
    "## Library Size ##\n",
    "The simplest test we can carry out is looking at library size.  We are looking at count of titles not count of discreet episodes or total viewing time.  Its not an unusfule test to begin to understand the libraries."
   ]
  },
  {
   "cell_type": "code",
   "execution_count": 16,
   "metadata": {
    "collapsed": false
   },
   "outputs": [
    {
     "data": {
      "text/html": [
       "<iframe id=\"igraph\" scrolling=\"no\" style=\"border:none;\"seamless=\"seamless\" src=\"https://plot.ly/~gotofftherails/97.embed\" height=\"525\" width=\"100%\"></iframe>"
      ],
      "text/plain": [
       "<plotly.tools.PlotlyDisplay object>"
      ]
     },
     "execution_count": 16,
     "metadata": {},
     "output_type": "execute_result"
    }
   ],
   "source": [
    "total_titles_nz = len(nz_data)\n",
    "total_titles_us = len(us_data)\n",
    "\n",
    "data = (\n",
    "    [Bar( x = ['NZ', 'USA'],\n",
    "          y = [total_titles_nz, total_titles_us],\n",
    "            marker = Marker(\n",
    "            color = 'rgba(34, 95, 250, 0.6)')\n",
    "        )]\n",
    "    )\n",
    "\n",
    "layout = Layout(\n",
    "    title ='Netflix Library Comparison- USA vs NZ - June 2015',\n",
    "    yaxis = YAxis(title = 'Count of Titles'),\n",
    "    xaxis = XAxis(title = 'Geographic Service'),\n",
    "    \n",
    "    )     \n",
    "\n",
    "fig = Figure(data=data, layout=layout)\n",
    "\n",
    "# Run this to generate the plot.ly plot for yourself, once created we will embed it\n",
    "# py.iplot(fig, filename = 'Netflix-Library-Comparison-June-2015')\n",
    "\n",
    "# Run this to embed the plot after creation, this is necessary for rendering in Github in particular.\n",
    "\n",
    "tls.embed(\"https://plot.ly/~gotofftherails/97/netflix-library-comparison-june-2015/\")\n",
    "\n"
   ]
  },
  {
   "cell_type": "markdown",
   "metadata": {
    "collapsed": false
   },
   "source": [
    "## Uniqueness of Content ##\n",
    "\n",
    "Further up you would notice we imported a python module called 'content_stats'.  This lets us apply some more exploratory stats.\n",
    "\n",
    "The uniqueness of content between libraries has been questioned by several people.  "
   ]
  },
  {
   "cell_type": "code",
   "execution_count": 17,
   "metadata": {
    "collapsed": false
   },
   "outputs": [
    {
     "name": "stdout",
     "output_type": "stream",
     "text": [
      "Titles in common between USA and NZ: 468\n",
      "Titles Unique to the USA : 3860\n",
      "Titles Unique to the NZ : 966\n"
     ]
    }
   ],
   "source": [
    "# Number of titles are common\n",
    "common = len(content_stats.Compare_regions(us_data, nz_data).common_titles())\n",
    "print 'Titles in common between USA and NZ:', common\n",
    "\n",
    "\n",
    "# Number of titles unique to us\n",
    "unique_us = len(content_stats.Compare_regions(us_data, nz_data).unique_to_first())\n",
    "print 'Titles Unique to the USA :', unique_us\n",
    "\n",
    "# Number of titles unique to nz\n",
    "unique_nz = len(content_stats.Compare_regions(nz_data, us_data).unique_to_first())\n",
    "print 'Titles Unique to the NZ :', unique_nz\n"
   ]
  },
  {
   "cell_type": "markdown",
   "metadata": {
    "collapsed": true
   },
   "source": [
    "We can represent this graphically again."
   ]
  },
  {
   "cell_type": "code",
   "execution_count": 19,
   "metadata": {
    "collapsed": false
   },
   "outputs": [
    {
     "data": {
      "text/html": [
       "<iframe id=\"igraph\" scrolling=\"no\" style=\"border:none;\"seamless=\"seamless\" src=\"https://plot.ly/~gotofftherails/127.embed\" height=\"525\" width=\"100%\"></iframe>"
      ],
      "text/plain": [
       "<plotly.tools.PlotlyDisplay object>"
      ]
     },
     "execution_count": 19,
     "metadata": {},
     "output_type": "execute_result"
    }
   ],
   "source": [
    "trace1 = Bar(\n",
    "        y=['Count of Title'],\n",
    "        x=[unique_nz],\n",
    "        name='Unique to NZ',\n",
    "        orientation = 'h',\n",
    "    \n",
    "        marker = Marker(\n",
    "            color = 'rgba(0, 0, 0, 0.6)'        )\n",
    "    \n",
    "        )\n",
    "\n",
    "trace2 = Bar(\n",
    "        y=['Count of Title'],\n",
    "        x=[common],\n",
    "        name='Common Between NZ and USA',\n",
    "        orientation = 'h',\n",
    "        marker = Marker(\n",
    "            color = 'rgba(255, 20, 20, 0.6)' )\n",
    "    \n",
    "        )\n",
    "\n",
    "\n",
    "trace3 = Bar(\n",
    "        y = ['Count of Title'],\n",
    "        x = [unique_us],\n",
    "        name = 'Unique to USA',\n",
    "        orientation = 'h',\n",
    "    \n",
    "        marker = Marker(\n",
    "            color = 'rgba(34, 95, 250, 0.6)')\n",
    "    \n",
    "        )\n",
    "\n",
    "\n",
    "data = Data([trace1, trace2, trace3])\n",
    "layout = Layout(\n",
    "    barmode='stack')\n",
    "\n",
    "fig = Figure(data=data, layout=layout)\n",
    "\n",
    "# used to create\n",
    "# py.iplot(fig, filename = 'Netflix-Library-Comparison-June-2015-Uniqueness of Content')\n",
    "\n",
    "# used to embed\n",
    "tls.embed(\"https://plot.ly/~gotofftherails/127/unique-to-nz-common-between-nz-and-usa-unique-to-usa/\")\n"
   ]
  },
  {
   "cell_type": "markdown",
   "metadata": {},
   "source": [
    "## Quality of Content ##\n",
    "\n",
    "Quality by definition is qualitive. Though with enough measure of quality we can hopefully have some quantitive measure of quality, the same way we can hopefully say a five star hotel is normally going to better than a one star hotel.  We know this is not always the case and we do have the [Napoleon Dynamite](http://www.nytimes.com/2008/11/23/magazine/23Netflix-t.html?pagewanted=all&_r=0) effect where the hate and love for a title can be strong.  \n",
    "\n",
    "To assess quality we looked looked towards IMDB, who make some of their data available via [alternative interfaces](http://www.imdb.com/interfaces) though not in a structured API.  Luckily [OMDB]('http://www.omdbapi.com/') offer a RESTful API that allows querying by title or ID, and returns XML or JSON.\n",
    "\n",
    "We used this to query the title against OMDB.  Not all returned a useful response, Doctor Who fans will be pleased to know 1995's made for TV movie was not recognised when we queried."
   ]
  },
  {
   "cell_type": "markdown",
   "metadata": {},
   "source": [
    "We can look at what we did not get a response for, this is useful, it does not tell us where we got a false response, but we're hoping there were not too many of those."
   ]
  },
  {
   "cell_type": "code",
   "execution_count": 20,
   "metadata": {
    "collapsed": false
   },
   "outputs": [
    {
     "name": "stdout",
     "output_type": "stream",
     "text": [
      "Count of NZ titles we did not get a reponse for:  163\n",
      "Percentage of NZ sites:  11.0 %\n"
     ]
    }
   ],
   "source": [
    "# Count of titles we did not get a response for \n",
    "nz_no_response = len([k for (k, v) in nz_data.iteritems() if v['Response'] == 'False'])\n",
    "print 'Count of NZ titles we did not get a reponse for: ', nz_no_response\n",
    "print 'Percentage of NZ sites: ', round(float(nz_no_response)/float(len(nz_data))*100), '%'\n",
    "\n",
    "#US count?\n"
   ]
  },
  {
   "cell_type": "markdown",
   "metadata": {},
   "source": [
    "We're pretty happy with these percentages for getting an understanding of the content that is available from a quality perpective.  We might not be able to be absolutely, absolute, but good enough.\n",
    "\n",
    "We can now look at the difference in quality.\n",
    "\n",
    "In our assessment of quality we are not looking at Netflix ratings, we are looking at the ratings held in IMDb.  It could be that Netflix have content more suited to its customers and they would rate titles higher.  Those rating IMDb may be skewed in a particular way as they may have more interest in esotric parts of movies.\n",
    "\n",
    "We won't get this right but its still useful.\n",
    "\n",
    "## Average Score ##"
   ]
  },
  {
   "cell_type": "code",
   "execution_count": 21,
   "metadata": {
    "collapsed": false
   },
   "outputs": [
    {
     "name": "stdout",
     "output_type": "stream",
     "text": [
      "NZ Average Score via OMDB:  6.68\n",
      "US Average Score via OMDB:  6.37\n"
     ]
    }
   ],
   "source": [
    "# Average IMDB score of NZ geographic content\n",
    "nz_avg_score = content_stats.Title_stats(nz_data).average_score()\n",
    "\n",
    "# Average IMDB score of NZ geographic content\n",
    "us_avg_score = content_stats.Title_stats(us_data).average_score()\n",
    "\n",
    "print 'NZ Average Score via OMDB: ', round(nz_avg_score,2)\n",
    "print 'US Average Score via OMDB: ', round(us_avg_score,2)\n"
   ]
  },
  {
   "cell_type": "markdown",
   "metadata": {},
   "source": [
    "New Zealand may have a smaller catalgoue but it does seem to have a marginally higher average quality than the US.  We can look at what the top movies are (based on IMDb/OMDb ratings) between the two countries.\n",
    "\n",
    "##Top Movies##"
   ]
  },
  {
   "cell_type": "code",
   "execution_count": 27,
   "metadata": {
    "collapsed": false
   },
   "outputs": [
    {
     "name": "stdout",
     "output_type": "stream",
     "text": [
      "Top NZ Titles\n",
      "\n",
      "Title : The Shawshank Redemption\n",
      "Rating:  9.3\n",
      "=========\n",
      "Title : Human Planet\n",
      "Rating:  9.3\n",
      "=========\n",
      "Title : Frozen Planet\n",
      "Rating:  9.3\n",
      "=========\n",
      "Title : Firefly\n",
      "Rating:  9.2\n",
      "=========\n",
      "Title : The Godfather\n",
      "Rating:  9.2\n",
      "=========\n",
      "\n",
      "\n",
      "Top US Titles\n",
      "\n",
      "Title : Generation Earth\n",
      "Rating:  9.1\n",
      "=========\n",
      "Title : Fullmetal Alchemist: Brotherhood\n",
      "Rating:  9.1\n",
      "=========\n",
      "Title : Long Way Round\n",
      "Rating:  9.1\n",
      "=========\n",
      "Title : Tomb Raider\n",
      "Rating:  9.1\n",
      "=========\n",
      "Title : Top Gear\n",
      "Rating:  9.0\n",
      "=========\n"
     ]
    }
   ],
   "source": [
    "top_nz_titles = content_stats.Title_stats(nz_data).top_movies(25)\n",
    "top_us_titles = content_stats.Title_stats(us_data).top_movies(25)\n",
    "\n",
    "print 'Top NZ Titles'\n",
    "print\n",
    "\n",
    "# Truncate to 5\n",
    "for tup in top_nz_titles[:5]:\n",
    "    print 'Title :', tup[0]\n",
    "    print 'Rating: ', tup[1]\n",
    "    print '========='\n",
    "\n",
    "print\n",
    "print \n",
    "print 'Top US Titles'\n",
    "print\n",
    "    \n",
    "# Truncate to 5\n",
    "for tup in top_us_titles[:5]:\n",
    "    print 'Title :', tup[0]\n",
    "    print 'Rating: ', tup[1]\n",
    "    print '========='\n",
    "    \n"
   ]
  },
  {
   "cell_type": "markdown",
   "metadata": {},
   "source": [
    "We could potentially display this visually.\n",
    "\n",
    "We need to do some trickery as our dictionaries have quoted title names as the keys, so 'The%20Pink%20Panther' instead of 'The Pink Panther', so we need to 'quote' our moviename to get an image.\n",
    "\n",
    "## Top NZ Title Visually ##"
   ]
  },
  {
   "cell_type": "code",
   "execution_count": 34,
   "metadata": {
    "collapsed": false
   },
   "outputs": [
    {
     "name": "stdout",
     "output_type": "stream",
     "text": [
      "Title : The Shawshank Redemption\n",
      "Title : 9.3\n"
     ]
    },
    {
     "data": {
      "image/jpeg": "[encoded data removed]",
      "text/plain": [
       "<IPython.core.display.Image object>"
      ]
     },
     "metadata": {},
     "output_type": "display_data"
    },
    {
     "name": "stdout",
     "output_type": "stream",
     "text": [
      "Title : Human Planet\n",
      "Title : 9.3\n"
     ]
    },
    {
     "data": {
      "image/jpeg": "[encoded data removed]",
      "text/plain": [
       "<IPython.core.display.Image object>"
      ]
     },
     "metadata": {},
     "output_type": "display_data"
    },
    {
     "name": "stdout",
     "output_type": "stream",
     "text": [
      "Title : Frozen Planet\n",
      "Title : 9.3\n"
     ]
    },
    {
     "data": {
      "image/jpeg": "[encoded data removed]",
      "text/plain": [
       "<IPython.core.display.Image object>"
      ]
     },
     "metadata": {},
     "output_type": "display_data"
    },
    {
     "name": "stdout",
     "output_type": "stream",
     "text": [
      "Title : Firefly\n",
      "Title : 9.2\n"
     ]
    },
    {
     "data": {
      "image/jpeg": "[encoded data removed]",
      "text/plain": [
       "<IPython.core.display.Image object>"
      ]
     },
     "metadata": {},
     "output_type": "display_data"
    },
    {
     "name": "stdout",
     "output_type": "stream",
     "text": [
      "Title : The Godfather\n",
      "Title : 9.2\n"
     ]
    },
    {
     "data": {
      "image/jpeg": "[encoded data removed]",
      "text/plain": [
       "<IPython.core.display.Image object>"
      ]
     },
     "metadata": {},
     "output_type": "display_data"
    }
   ],
   "source": [
    "#truncate to top 5\n",
    "for tup in top_nz_titles[:5]:\n",
    "    print 'Title :', tup[0]\n",
    "    print 'Title :', tup[1]\n",
    "    try:\n",
    "        poster = Image(nz_data[quote(tup[0])]['Poster'])\n",
    "        display(poster)\n",
    "    except:\n",
    "        print '''\n",
    "        |\n",
    "        | No Poster\n",
    "        |       \n",
    "        '''\n"
   ]
  },
  {
   "cell_type": "markdown",
   "metadata": {},
   "source": [
    "## New Zealand as Country of Origin ##\n",
    "\n",
    "We can see what New Zealand content is represented within our samples. This includes anything that has the identifier New Zealand in 'Country' via IMDb.  This can include co-productions."
   ]
  },
  {
   "cell_type": "code",
   "execution_count": 37,
   "metadata": {
    "collapsed": false
   },
   "outputs": [
    {
     "data": {
      "text/html": [
       "<iframe id=\"igraph\" scrolling=\"no\" style=\"border:none;\"seamless=\"seamless\" src=\"https://plot.ly/~gotofftherails/130.embed\" height=\"525\" width=\"100%\"></iframe>"
      ],
      "text/plain": [
       "<plotly.tools.PlotlyDisplay object>"
      ]
     },
     "execution_count": 37,
     "metadata": {},
     "output_type": "execute_result"
    }
   ],
   "source": [
    "# test\n",
    "nz_origin_nz = content_stats.Title_stats(nz_data).nz_origin()\n",
    "nz_origin_us = content_stats.Title_stats(nz_data).nz_origin()\n",
    "\n",
    "\n",
    "data = (\n",
    "    [Bar( x = ['NZ', 'USA'],\n",
    "          y = [nz_origin_nz, nz_origin_us],\n",
    "            marker = Marker(\n",
    "            color = 'rgba(34, 95, 250, 0.6)')\n",
    "        )]\n",
    "    )\n",
    "\n",
    "layout = Layout(\n",
    "    title ='Netflix - Count of Titles with Country of Origin as New Zealand via IMDb',\n",
    "    yaxis = YAxis(title = 'Count of Titles'),\n",
    "    xaxis = XAxis(title = 'Geographic Service'),\n",
    "    \n",
    "    )     \n",
    "\n",
    "fig = Figure(data=data, layout=layout)\n",
    "\n",
    "# py.iplot(fig, filename = 'Netflix-Library-Comparison-Country-June-2015')\n",
    "\n",
    "tls.embed('https://plot.ly/~gotofftherails/130/netflix-count-of-titles-with-country-of-origin-as-new-zealand-via-imdb/')\n"
   ]
  },
  {
   "cell_type": "markdown",
   "metadata": {
    "collapsed": true
   },
   "source": [
    "Neck and neck"
   ]
  },
  {
   "cell_type": "markdown",
   "metadata": {},
   "source": [
    "## Age of Titles ##\n",
    "\n",
    "We can look at age of titles within the catalogues.  There are some interesting bits to this as age is represented in three ways:\n",
    "* A single year - this could be a movie that came out in a single year or a series that only ran within a single calendar year\n",
    "* Across multiple years, for example a series that has run across multiple years (e.g. Friends, 1994–2004)\n",
    "* Something that is still running (e.g. Orange is the New Black, 2013–)\n",
    "\n",
    "Initially we could look at year of first release. \n",
    "\n"
   ]
  },
  {
   "cell_type": "code",
   "execution_count": 40,
   "metadata": {
    "collapsed": false
   },
   "outputs": [
    {
     "data": {
      "text/html": [
       "<iframe id=\"igraph\" scrolling=\"no\" style=\"border:none;\"seamless=\"seamless\" src=\"https://plot.ly/~gotofftherails/132.embed\" height=\"525\" width=\"100%\"></iframe>"
      ],
      "text/plain": [
       "<plotly.tools.PlotlyDisplay object>"
      ]
     },
     "execution_count": 40,
     "metadata": {},
     "output_type": "execute_result"
    }
   ],
   "source": [
    "release_year = content_stats.Title_stats(nz_data).year_first_release_count()\n",
    "\n",
    "x_list = []\n",
    "y_list = []\n",
    "\n",
    "for year, count in release_year.iteritems():\n",
    "    x_list.append(year)\n",
    "    y_list.append(count)\n",
    "\n",
    "data = (\n",
    "    [Bar( x = x_list,\n",
    "          y = y_list,\n",
    "            marker = Marker(\n",
    "            color = 'rgba(34, 95, 250, 0.6)')\n",
    "        )]\n",
    "    )\n",
    "\n",
    "layout = Layout(\n",
    "    title ='Netflix - Year of Titles First Release - NZ June 2015',\n",
    "    yaxis = YAxis(title = 'Count of Titles'),\n",
    "    xaxis = XAxis(title = 'Year'),\n",
    "    \n",
    "    )     \n",
    "\n",
    "fig = Figure(data=data, layout=layout)\n",
    "\n",
    "#py.iplot(fig, filename = 'Netflix-Library-Comparison-Release-June-2015')\n",
    "\n",
    "tls.embed('https://plot.ly/~gotofftherails/132/netflix-year-of-titles-first-release-nz-june-2015/')\n"
   ]
  },
  {
   "cell_type": "markdown",
   "metadata": {},
   "source": [
    "We can do the same for the USA catalogue."
   ]
  },
  {
   "cell_type": "code",
   "execution_count": 42,
   "metadata": {
    "collapsed": false
   },
   "outputs": [
    {
     "data": {
      "text/html": [
       "<iframe id=\"igraph\" scrolling=\"no\" style=\"border:none;\"seamless=\"seamless\" src=\"https://plot.ly/~gotofftherails/142.embed\" height=\"525\" width=\"100%\"></iframe>"
      ],
      "text/plain": [
       "<plotly.tools.PlotlyDisplay object>"
      ]
     },
     "execution_count": 42,
     "metadata": {},
     "output_type": "execute_result"
    }
   ],
   "source": [
    "release_year = content_stats.Title_stats(us_data).year_first_release_count()\n",
    "\n",
    "x_list = []\n",
    "y_list = []\n",
    "\n",
    "for year, count in release_year.iteritems():\n",
    "    x_list.append(year)\n",
    "    y_list.append(count)\n",
    "\n",
    "data = (\n",
    "    [Bar( x = x_list,\n",
    "          y = y_list,\n",
    "            marker = Marker(\n",
    "            color = 'rgba(34, 95, 250, 0.6)')\n",
    "        )]\n",
    "    )\n",
    "\n",
    "layout = Layout(\n",
    "    title ='Netflix - Year of Titles First Release - US June 2015',\n",
    "    yaxis = YAxis(title = 'Count of Titles'),\n",
    "    xaxis = XAxis(title = 'Year'),\n",
    "    \n",
    "    )     \n",
    "\n",
    "fig = Figure(data=data, layout=layout)\n",
    "\n",
    "# py.iplot(fig, filename = 'Netflix-Library-Comparison-Release-US-June-2015')\n",
    "tls.embed('https://plot.ly/~gotofftherails/142/netflix-year-of-titles-first-release-us-june-2015/')"
   ]
  },
  {
   "cell_type": "markdown",
   "metadata": {},
   "source": [
    "But we can look at them side by side.  Lets look at absolute first."
   ]
  },
  {
   "cell_type": "code",
   "execution_count": 44,
   "metadata": {
    "collapsed": false
   },
   "outputs": [
    {
     "data": {
      "text/html": [
       "<iframe id=\"igraph\" scrolling=\"no\" style=\"border:none;\"seamless=\"seamless\" src=\"https://plot.ly/~gotofftherails/157.embed\" height=\"525\" width=\"100%\"></iframe>"
      ],
      "text/plain": [
       "<plotly.tools.PlotlyDisplay object>"
      ]
     },
     "execution_count": 44,
     "metadata": {},
     "output_type": "execute_result"
    }
   ],
   "source": [
    "release_year_us = content_stats.Title_stats(us_data).year_first_release_count()\n",
    "\n",
    "us_x_list = []\n",
    "us_y_list = []\n",
    "\n",
    "for year, count in release_year_us.iteritems():\n",
    "    us_x_list.append(year)\n",
    "    us_y_list.append(count)\n",
    "\n",
    "release_year_nz = content_stats.Title_stats(nz_data).year_first_release_count()\n",
    "\n",
    "nz_x_list = []\n",
    "nz_y_list = []\n",
    "\n",
    "for year, count in release_year_nz.iteritems():\n",
    "    nz_x_list.append(year)\n",
    "    nz_y_list.append(count)\n",
    "\n",
    "trace1 = (\n",
    "    Bar( x = us_x_list,\n",
    "          y = us_y_list,\n",
    "        name = 'USA',\n",
    "            marker = Marker(\n",
    "            color = 'rgba(34, 95, 250, 0.6)')\n",
    "        )\n",
    "    )\n",
    "\n",
    "trace2 = (\n",
    "    Bar( x = nz_x_list,\n",
    "          y = nz_y_list,\n",
    "        name = 'NZ',\n",
    "            marker = Marker(\n",
    "            color = 'rgba(255, 144, 33, 0.6)')\n",
    "        )\n",
    "    )\n",
    "\n",
    "layout = Layout(\n",
    "    title ='Netflix - Year of Titles First Release - US and NZ June 2015',\n",
    "    yaxis = YAxis(title = 'Count of Titles'),\n",
    "    xaxis = XAxis(title = 'Year'),\n",
    "    barmode='group'\n",
    "    \n",
    "    )     \n",
    "\n",
    "data = Data([trace1, trace2])\n",
    "\n",
    "fig = Figure(data=data, layout=layout)\n",
    "\n",
    "#py.iplot(fig, filename = 'Netflix-Library-Comparison-Release-US-NZ-June-2015')\n",
    "\n",
    "tls.embed('https://plot.ly/~gotofftherails/157/netflix-year-of-titles-first-release-us-and-nz-june-2015/')"
   ]
  },
  {
   "cell_type": "markdown",
   "metadata": {},
   "source": [
    "The smaller New Zealand library makes this a bit tricker to understand which service has newer and older content"
   ]
  },
  {
   "cell_type": "code",
   "execution_count": 46,
   "metadata": {
    "collapsed": false
   },
   "outputs": [
    {
     "data": {
      "text/html": [
       "<iframe id=\"igraph\" scrolling=\"no\" style=\"border:none;\"seamless=\"seamless\" src=\"https://plot.ly/~gotofftherails/159.embed\" height=\"525\" width=\"100%\"></iframe>"
      ],
      "text/plain": [
       "<plotly.tools.PlotlyDisplay object>"
      ]
     },
     "execution_count": 46,
     "metadata": {},
     "output_type": "execute_result"
    }
   ],
   "source": [
    "total_us_titles = sum(us_y_list)\n",
    "us_y_list = [(float(count)/(float(total_us_titles)) * 100) for count in us_y_list]\n",
    "\n",
    "total_nz_titles = sum(nz_y_list)\n",
    "nz_y_list = [(float(count)/(float(total_nz_titles)) * 100) for count in nz_y_list]\n",
    "\n",
    "trace1 = (\n",
    "    Bar( x = us_x_list,\n",
    "          y = us_y_list,\n",
    "        name = 'USA',\n",
    "            marker = Marker(\n",
    "            color = 'rgba(34, 95, 250, 0.6)')\n",
    "        )\n",
    "    )\n",
    "\n",
    "trace2 = (\n",
    "    Bar( x = nz_x_list,\n",
    "          y = nz_y_list,\n",
    "        name = 'NZ',\n",
    "            marker = Marker(\n",
    "            color = 'rgba(255, 144, 33, 0.6)')\n",
    "        )\n",
    "    )\n",
    "\n",
    "layout = Layout(\n",
    "    title ='Netflix - Year of Titles First Release - US and NZ June 2015 - Percentage',\n",
    "    yaxis = YAxis(title = 'Percentage of Titles'),\n",
    "    xaxis = XAxis(title = 'Year'),\n",
    "    barmode='group'\n",
    "    \n",
    "    )     \n",
    "\n",
    "data = Data([trace1, trace2])\n",
    "\n",
    "fig = Figure(data=data, layout=layout)\n",
    "\n",
    "# py.iplot(fig, filename = 'Netflix-Library-Comparison-Release-US-NZ-June-2015-relative')\n",
    "\n",
    "tls.embed('https://plot.ly/~gotofftherails/159/netflix-year-of-titles-first-release-us-and-nz-june-2015-percentage/')"
   ]
  },
  {
   "cell_type": "markdown",
   "metadata": {},
   "source": [
    "## Languages ##"
   ]
  },
  {
   "cell_type": "code",
   "execution_count": null,
   "metadata": {
    "collapsed": true
   },
   "outputs": [],
   "source": []
  },
  {
   "cell_type": "code",
   "execution_count": null,
   "metadata": {
    "collapsed": true
   },
   "outputs": [],
   "source": []
  }
 ],
 "metadata": {
  "kernelspec": {
   "display_name": "Python 2",
   "language": "python",
   "name": "python2"
  },
  "language_info": {
   "codemirror_mode": {
    "name": "ipython",
    "version": 2
   },
   "file_extension": ".py",
   "mimetype": "text/x-python",
   "name": "python",
   "nbconvert_exporter": "python",
   "pygments_lexer": "ipython2",
   "version": "2.7.10"
  }
 },
 "nbformat": 4,
 "nbformat_minor": 0
}
